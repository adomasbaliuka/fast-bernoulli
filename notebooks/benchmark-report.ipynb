{
 "cells": [
  {
   "cell_type": "markdown",
   "metadata": {},
   "source": [
    "# Fast Bernoulli: Report Benchmarks"
   ]
  },
  {
   "cell_type": "code",
   "execution_count": 1,
   "metadata": {},
   "outputs": [],
   "source": [
    "import matplotlib.pyplot as plt\n",
    "import numpy as np\n",
    "import pandas as pd"
   ]
  },
  {
   "cell_type": "code",
   "execution_count": 2,
   "metadata": {},
   "outputs": [],
   "source": [
    "from json import load"
   ]
  },
  {
   "cell_type": "code",
   "execution_count": 3,
   "metadata": {},
   "outputs": [],
   "source": [
    "with open('../doc/benchmark.json') as fin:\n",
    "    obj = load(fin)"
   ]
  },
  {
   "cell_type": "code",
   "execution_count": 4,
   "metadata": {},
   "outputs": [
    {
     "data": {
      "text/html": [
       "<div>\n",
       "<style scoped>\n",
       "    .dataframe tbody tr th:only-of-type {\n",
       "        vertical-align: middle;\n",
       "    }\n",
       "\n",
       "    .dataframe tbody tr th {\n",
       "        vertical-align: top;\n",
       "    }\n",
       "\n",
       "    .dataframe thead th {\n",
       "        text-align: right;\n",
       "    }\n",
       "</style>\n",
       "<table border=\"1\" class=\"dataframe\">\n",
       "  <thead>\n",
       "    <tr style=\"text-align: right;\">\n",
       "      <th></th>\n",
       "      <th>name</th>\n",
       "      <th>run_name</th>\n",
       "      <th>run_type</th>\n",
       "      <th>repetitions</th>\n",
       "      <th>repetition_index</th>\n",
       "      <th>threads</th>\n",
       "      <th>iterations</th>\n",
       "      <th>real_time</th>\n",
       "      <th>cpu_time</th>\n",
       "      <th>time_unit</th>\n",
       "      <th>bytes_per_second</th>\n",
       "    </tr>\n",
       "  </thead>\n",
       "  <tbody>\n",
       "    <tr>\n",
       "      <td>0</td>\n",
       "      <td>BM_Executor&lt;NFastBernoulli::TGeneralExecutor&gt;</td>\n",
       "      <td>BM_Executor&lt;NFastBernoulli::TGeneralExecutor&gt;</td>\n",
       "      <td>iteration</td>\n",
       "      <td>0</td>\n",
       "      <td>0</td>\n",
       "      <td>1</td>\n",
       "      <td>1343419</td>\n",
       "      <td>514.373486</td>\n",
       "      <td>514.104576</td>\n",
       "      <td>ns</td>\n",
       "      <td>NaN</td>\n",
       "    </tr>\n",
       "    <tr>\n",
       "      <td>1</td>\n",
       "      <td>BM_Executor&lt;NFastBernoulli::TAvxExecutor&gt;</td>\n",
       "      <td>BM_Executor&lt;NFastBernoulli::TAvxExecutor&gt;</td>\n",
       "      <td>iteration</td>\n",
       "      <td>0</td>\n",
       "      <td>0</td>\n",
       "      <td>1</td>\n",
       "      <td>3899981</td>\n",
       "      <td>179.565124</td>\n",
       "      <td>179.485992</td>\n",
       "      <td>ns</td>\n",
       "      <td>NaN</td>\n",
       "    </tr>\n",
       "    <tr>\n",
       "      <td>2</td>\n",
       "      <td>BM_RandomNumberGeneration/1</td>\n",
       "      <td>BM_RandomNumberGeneration/1</td>\n",
       "      <td>iteration</td>\n",
       "      <td>0</td>\n",
       "      <td>0</td>\n",
       "      <td>1</td>\n",
       "      <td>17262529</td>\n",
       "      <td>41.460078</td>\n",
       "      <td>41.431537</td>\n",
       "      <td>ns</td>\n",
       "      <td>7.723585e+08</td>\n",
       "    </tr>\n",
       "    <tr>\n",
       "      <td>3</td>\n",
       "      <td>BM_RandomNumberGeneration/2</td>\n",
       "      <td>BM_RandomNumberGeneration/2</td>\n",
       "      <td>iteration</td>\n",
       "      <td>0</td>\n",
       "      <td>0</td>\n",
       "      <td>1</td>\n",
       "      <td>8940608</td>\n",
       "      <td>78.320770</td>\n",
       "      <td>77.915795</td>\n",
       "      <td>ns</td>\n",
       "      <td>8.213996e+08</td>\n",
       "    </tr>\n",
       "    <tr>\n",
       "      <td>4</td>\n",
       "      <td>BM_RandomNumberGeneration/4</td>\n",
       "      <td>BM_RandomNumberGeneration/4</td>\n",
       "      <td>iteration</td>\n",
       "      <td>0</td>\n",
       "      <td>0</td>\n",
       "      <td>1</td>\n",
       "      <td>4568154</td>\n",
       "      <td>152.563545</td>\n",
       "      <td>152.483855</td>\n",
       "      <td>ns</td>\n",
       "      <td>8.394331e+08</td>\n",
       "    </tr>\n",
       "  </tbody>\n",
       "</table>\n",
       "</div>"
      ],
      "text/plain": [
       "                                            name  \\\n",
       "0  BM_Executor<NFastBernoulli::TGeneralExecutor>   \n",
       "1      BM_Executor<NFastBernoulli::TAvxExecutor>   \n",
       "2                    BM_RandomNumberGeneration/1   \n",
       "3                    BM_RandomNumberGeneration/2   \n",
       "4                    BM_RandomNumberGeneration/4   \n",
       "\n",
       "                                        run_name   run_type  repetitions  \\\n",
       "0  BM_Executor<NFastBernoulli::TGeneralExecutor>  iteration            0   \n",
       "1      BM_Executor<NFastBernoulli::TAvxExecutor>  iteration            0   \n",
       "2                    BM_RandomNumberGeneration/1  iteration            0   \n",
       "3                    BM_RandomNumberGeneration/2  iteration            0   \n",
       "4                    BM_RandomNumberGeneration/4  iteration            0   \n",
       "\n",
       "   repetition_index  threads  iterations   real_time    cpu_time time_unit  \\\n",
       "0                 0        1     1343419  514.373486  514.104576        ns   \n",
       "1                 0        1     3899981  179.565124  179.485992        ns   \n",
       "2                 0        1    17262529   41.460078   41.431537        ns   \n",
       "3                 0        1     8940608   78.320770   77.915795        ns   \n",
       "4                 0        1     4568154  152.563545  152.483855        ns   \n",
       "\n",
       "   bytes_per_second  \n",
       "0               NaN  \n",
       "1               NaN  \n",
       "2      7.723585e+08  \n",
       "3      8.213996e+08  \n",
       "4      8.394331e+08  "
      ]
     },
     "execution_count": 4,
     "metadata": {},
     "output_type": "execute_result"
    }
   ],
   "source": [
    "benchmarks = pd.DataFrame(obj['benchmarks'])\n",
    "benchmarks.head()"
   ]
  },
  {
   "cell_type": "code",
   "execution_count": 5,
   "metadata": {},
   "outputs": [],
   "source": [
    "benchmarks.drop(index=[0, 1], inplace=True)\n",
    "benchmarks['metric'] = benchmarks.name.str.split('/', 1).str.get(0).str.split('_', 1).str.get(1)\n",
    "benchmarks['noblocks'] = pd.to_numeric(benchmarks.name.str.split('/', 1).str.get(1))"
   ]
  },
  {
   "cell_type": "code",
   "execution_count": 6,
   "metadata": {},
   "outputs": [],
   "source": [
    "def prettify_label(label):\n",
    "    if label == 'RandomNumberGeneration':\n",
    "        return 'MT19937'\n",
    "    \n",
    "    avx = 'Avx' in label\n",
    "    jit = 'Jit' in label\n",
    "    std = 'Std' in label\n",
    "    \n",
    "    if std:\n",
    "        return 'Std Bernoulli (\\~100kbps)'\n",
    "    \n",
    "    label = 'Fast Bernoulli'\n",
    "    if avx:\n",
    "        label += ' + AVX'\n",
    "    if jit:\n",
    "        label += ' + JIT'\n",
    "    return label"
   ]
  },
  {
   "cell_type": "code",
   "execution_count": 7,
   "metadata": {},
   "outputs": [],
   "source": [
    "grp = benchmarks.groupby('metric')\n",
    "combined = pd.concat([\n",
    "    grp['noblocks'].apply(list),\n",
    "    grp['cpu_time'].apply(list),\n",
    "    grp['bytes_per_second'].apply(list),\n",
    "], ignore_index=False, axis=1,  join='inner').reset_index()\n",
    "combined['label'] = combined.metric.apply(prettify_label)\n",
    "combined.drop(columns=['metric'], inplace=True)\n",
    "combined.set_index('label', inplace=True)\n",
    "combined = combined.sort_index()"
   ]
  },
  {
   "cell_type": "code",
   "execution_count": 8,
   "metadata": {},
   "outputs": [],
   "source": [
    "MARKERS = ['<', 'v', '^', '>', '*']"
   ]
  },
  {
   "cell_type": "code",
   "execution_count": 9,
   "metadata": {},
   "outputs": [
    {
     "data": {
      "image/png": "[encoded data removed]",
      "text/plain": [
       "<Figure size 1008x432 with 1 Axes>"
      ]
     },
     "metadata": {
      "needs_background": "light"
     },
     "output_type": "display_data"
    }
   ],
   "source": [
    "fig = plt.figure(figsize=(14, 6))\n",
    "\n",
    "ax = fig.add_subplot(1, 1, 1)\n",
    "cnt = 0\n",
    "\n",
    "for label, (params, cpu_time, throughput) in combined.iterrows():\n",
    "    if 'MT' in label:\n",
    "        continue\n",
    "    ax.plot(params, np.array(throughput) / 1e6, marker=MARKERS[cnt], label=label)\n",
    "    cnt += 1\n",
    "\n",
    "ax.annotate('~100kbps', xy=(20, 1), xytext=(10, 12),\n",
    "            arrowprops=dict(arrowstyle='-|>', fc='k', ec='k', lw=1.5),\n",
    "            bbox=dict(pad=1, facecolor='none', edgecolor='none'))\n",
    "\n",
    "ax.grid()\n",
    "ax.legend()\n",
    "ax.set_xlabel('Number of blocks')\n",
    "ax.set_ylabel('Bitrate, Mbps')\n",
    "ax.set_xlim(0)\n",
    "ax.set_title('Rate of generation Bernoulli random bits versus '\n",
    "             'number of blocks (blocks size is 256 bits, distribution parameter is 0.6, '\n",
    "             'number of input blocks is 11).')\n",
    "\n",
    "fig.savefig('../doc/benchmark-rate-vs-noblocks.png')\n",
    "plt.show()"
   ]
  }
 ],
 "metadata": {
  "kernelspec": {
   "display_name": "Python 3",
   "language": "python",
   "name": "python3"
  },
  "language_info": {
   "codemirror_mode": {
    "name": "ipython",
    "version": 3
   },
   "file_extension": ".py",
   "mimetype": "text/x-python",
   "name": "python",
   "nbconvert_exporter": "python",
   "pygments_lexer": "ipython3",
   "version": "3.7.4"
  }
 },
 "nbformat": 4,
 "nbformat_minor": 2
}
